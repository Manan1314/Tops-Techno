{
  "nbformat": 4,
  "nbformat_minor": 0,
  "metadata": {
    "colab": {
      "provenance": []
    },
    "kernelspec": {
      "name": "python3",
      "display_name": "Python 3"
    },
    "language_info": {
      "name": "python"
    }
  },
  "cells": [
    {
      "cell_type": "markdown",
      "source": [
        "**1) What is Power BI and how does it differ from Excel?**"
      ],
      "metadata": {
        "id": "xEldk1MmlRfX"
      }
    },
    {
      "cell_type": "markdown",
      "source": [
        "Power BI is a data visualization tool by Microsoft that helps you turn data into interactive dashboards and reports. It differs from Excel because it can handle large datasets, automate data refresh, and create interactive dashboards, whereas Excel is mainly used for data manipulation and analysis in spreadsheets."
      ],
      "metadata": {
        "id": "sgwqVdXLlY-o"
      }
    },
    {
      "cell_type": "markdown",
      "source": [
        "**2) Explain the concept of data modeling in Power BI.**"
      ],
      "metadata": {
        "id": "Z6MJAITVlfMj"
      }
    },
    {
      "cell_type": "markdown",
      "source": [
        "Data modeling in Power BI involves creating relationships between different tables, defining measures using DAX, and organizing data for efficient reporting. It helps in building meaningful insights from raw data."
      ],
      "metadata": {
        "id": "qw-2366Inpce"
      }
    },
    {
      "cell_type": "markdown",
      "source": [
        "**3) What are the different types of connections available in Power BI?**"
      ],
      "metadata": {
        "id": "SDOm-eqgnrvF"
      }
    },
    {
      "cell_type": "markdown",
      "source": [
        "Below are the different types of connections available in Power BI.\n",
        "\n",
        "* Import: Loads data into Power BI for fast performance.  \n",
        "* DirectQuery: Keeps data in the source and fetches it when needed.\n",
        "* Live Connection: Used mostly with SSAS (SQL Server Analysis Services)."
      ],
      "metadata": {
        "id": "TMPOgo35oZkz"
      }
    },
    {
      "cell_type": "markdown",
      "source": [
        "**4) How do you handle data transformation in Power BI?**"
      ],
      "metadata": {
        "id": "58oAxFiJpEzX"
      }
    },
    {
      "cell_type": "markdown",
      "source": [
        "Data transformation is done using Power Query, where you can clean, filter, remove duplicates, split columns, and perform other operations before loading data into Power BI."
      ],
      "metadata": {
        "id": "CfFYVdbFwmzd"
      }
    },
    {
      "cell_type": "markdown",
      "source": [
        "**5) What is DAX (Data Analysis Expressions) and why is it important in Power BI?**"
      ],
      "metadata": {
        "id": "sOMbZABhwoda"
      }
    },
    {
      "cell_type": "markdown",
      "source": [
        "DAX is a formula language used in Power BI to create custom calculations. It is important because it helps in performing complex calculations and aggregations in reports."
      ],
      "metadata": {
        "id": "g0gJmXDUzklX"
      }
    },
    {
      "cell_type": "markdown",
      "source": [
        "**6) Can you explain the difference between calculated columns and measures in Power BI?**"
      ],
      "metadata": {
        "id": "sLzncV8W12a7"
      }
    },
    {
      "cell_type": "markdown",
      "source": [
        "**Calculated Column:** Created at the row level and stored in a table (e.g., Sales[Total] = Sales[Quantity] * Sales[Price]).\n",
        "\n",
        "**Measure:** A formula that calculates results based on filters (e.g., sum of sales). Use columns for data structure, and measures for dynamic analysis."
      ],
      "metadata": {
        "id": "eDY2Xysk2FL3"
      }
    },
    {
      "cell_type": "markdown",
      "source": [
        "**7) How do you handle relationships between tables in Power BI?**"
      ],
      "metadata": {
        "id": "MMPtAMUF3VE0"
      }
    },
    {
      "cell_type": "markdown",
      "source": [
        "Relationships are created in the Model View by linking primary and foreign keys. Power BI supports one-to-one, one-to-many, and many-to-many relationships."
      ],
      "metadata": {
        "id": "VlDVPUvo3vwW"
      }
    },
    {
      "cell_type": "markdown",
      "source": [
        "**8) What is the purpose of a Power BI Gateway?**"
      ],
      "metadata": {
        "id": "z_lsRz9b4fSW"
      }
    },
    {
      "cell_type": "markdown",
      "source": [
        "A Power BI Gateway connects on-premises data sources to Power BI Service, enabling secure data refresh and real-time data access."
      ],
      "metadata": {
        "id": "L2VU3QPrAKXH"
      }
    },
    {
      "cell_type": "markdown",
      "source": [
        "**9) How can you schedule data refresh in Power BI Service?**"
      ],
      "metadata": {
        "id": "zkX4uWfNAZtk"
      }
    },
    {
      "cell_type": "markdown",
      "source": [
        "In Power BI Service, go to Settings > Datasets > Scheduled Refresh, and set the frequency (daily/hourly). A gateway is required for on-premises data sources."
      ],
      "metadata": {
        "id": "2zJnteEOAeDK"
      }
    },
    {
      "cell_type": "markdown",
      "source": [
        "**10) Explain the concept of row-level security in Power BI.**"
      ],
      "metadata": {
        "id": "t5x4Y8LzAnHY"
      }
    },
    {
      "cell_type": "markdown",
      "source": [
        "Row-Level Security (RLS) controls what data a user can see. For example, a manager in Surat will only see sales data from Surat, not Ahmedabad or Gandhinagar. This keeps our data secure."
      ],
      "metadata": {
        "id": "3q5afaB3AvyC"
      }
    },
    {
      "cell_type": "markdown",
      "source": [
        "**11) What is the Power BI Desktop and how does it differ from Power BI Service?**"
      ],
      "metadata": {
        "id": "tMZkLjx-BBuM"
      }
    },
    {
      "cell_type": "markdown",
      "source": [
        "* Power BI Desktop: Used for creating reports, dashboards, and data models.\n",
        "* Power BI Service: It's the cloud platform where you share, schedule, and collaborate on reports.\n",
        "\n"
      ],
      "metadata": {
        "id": "D63OyBDhBXvb"
      }
    },
    {
      "cell_type": "markdown",
      "source": [
        "**12) Explain the concept of Direct Query in Power BI.**"
      ],
      "metadata": {
        "id": "Ilthr3mMBqDx"
      }
    },
    {
      "cell_type": "markdown",
      "source": [
        "Direct Query allows Power BI pull data in real-time from the source instead of storing it. It is useful for large datasets or live dashboards, but may be slower than importing."
      ],
      "metadata": {
        "id": "qE3EIlu1B0hV"
      }
    },
    {
      "cell_type": "markdown",
      "source": [
        "**13) What are Power BI templates and how are they useful?**"
      ],
      "metadata": {
        "id": "m_31QkGaCWJM"
      }
    },
    {
      "cell_type": "markdown",
      "source": [
        "Templates (.PBIT files) save the report layout, visuals, and queries without the data. They allow users to reuse reports with different datasets."
      ],
      "metadata": {
        "id": "7U0iuCGuC7Q1"
      }
    },
    {
      "cell_type": "markdown",
      "source": [
        "**14) How do you handle incremental data refresh in Power BI?**"
      ],
      "metadata": {
        "id": "JQzjssg4EPDS"
      }
    },
    {
      "cell_type": "markdown",
      "source": [
        "Incremental refresh loads only new or changed data instead of refreshing the entire dataset. It saves time and resources especially for big datasets."
      ],
      "metadata": {
        "id": "lgxHvZ2vEWSh"
      }
    },
    {
      "cell_type": "markdown",
      "source": [
        "**15) What is the role of Power Query in Power BI?**"
      ],
      "metadata": {
        "id": "BGRgv1RKE0Aw"
      }
    },
    {
      "cell_type": "markdown",
      "source": [
        "Power Query is used for data extraction, transformation, and loading. It helps clean and reshape data before analysis."
      ],
      "metadata": {
        "id": "RK_cL7-hE4vk"
      }
    },
    {
      "cell_type": "markdown",
      "source": [
        "**16) Explain the difference between calculated columns and calculated tables in Power BI.**"
      ],
      "metadata": {
        "id": "chWpWYA8FFDa"
      }
    },
    {
      "cell_type": "markdown",
      "source": [
        "* Calculated Column: A new column in an existing table using a formula.\n",
        "* Calculated Tables: Create a new table from existing data using DAX (e.g., NewTable = FILTER(OldTable, OldTable[Category] = \"Electronics\")).\n",
        "\n"
      ],
      "metadata": {
        "id": "2BXxT7fAFR6s"
      }
    },
    {
      "cell_type": "markdown",
      "source": [
        "**17) How do you create custom visuals in Power BI?**"
      ],
      "metadata": {
        "id": "ExDFNHPQHnPe"
      }
    },
    {
      "cell_type": "markdown",
      "source": [
        "In Powe BI, Custom visuals can be created using Power BI SDK (TypeScript, D3.js) or by downloading visuals from the Power BI Marketplace."
      ],
      "metadata": {
        "id": "cBj-G6MxH8Qs"
      }
    },
    {
      "cell_type": "markdown",
      "source": [
        "**18) What are the best practices for optimizing performance in Power BI?**"
      ],
      "metadata": {
        "id": "XWvOBBCvIRqJ"
      }
    },
    {
      "cell_type": "markdown",
      "source": [
        "* Use Import mode when possible.\n",
        "* Avoid too many visuals or slicers on one page.\n",
        "* Filter data in Power Query before loading.\n",
        "* Limit calculated columns; prefer measures.\n",
        "\n",
        "\n",
        "\n"
      ],
      "metadata": {
        "id": "2XnRhMeIIaaj"
      }
    },
    {
      "cell_type": "markdown",
      "source": [
        "**19) How can you integrate Power BI with other Microsoft products like Azure and Office 365?**"
      ],
      "metadata": {
        "id": "tav6bdW6I1Zy"
      }
    },
    {
      "cell_type": "markdown",
      "source": [
        "* Azure: Connect to Azure SQL, Blob Storage, or Synapse for live data.\n",
        "* Office 365: Use Microsoft Teams, SharePoint, and Excel to collaborate, embed reports, or use OneDrive for data storage.\n",
        "\n"
      ],
      "metadata": {
        "id": "JoFg3uomJleK"
      }
    },
    {
      "cell_type": "markdown",
      "source": [
        "**20) Explain the concept of aggregations in Power BI.**"
      ],
      "metadata": {
        "id": "l9npTqOzJ5cc"
      }
    },
    {
      "cell_type": "markdown",
      "source": [
        "Aggregations are pre-summarized data (like totals or averages). Power BI uses them to improve performance when working with large datasets by querying smaller, summarized tables."
      ],
      "metadata": {
        "id": "fZhqY9v-L5cN"
      }
    },
    {
      "cell_type": "markdown",
      "source": [
        "**21) How do you handle error handling and data quality in Power BI?**"
      ],
      "metadata": {
        "id": "hoyv4lS2MDMW"
      }
    },
    {
      "cell_type": "markdown",
      "source": [
        "* Remove errors or nulls.\n",
        "* Use DAX IFERROR() function to manage errors in calculations.\n",
        "* Use conditional columns to handle missing or unusual values."
      ],
      "metadata": {
        "id": "f5qZUUNTMMRy"
      }
    },
    {
      "cell_type": "markdown",
      "source": [
        "**22) What is the purpose of Power BI Embedded and when would you use it?**"
      ],
      "metadata": {
        "id": "4oCdGHK-MrB4"
      }
    },
    {
      "cell_type": "markdown",
      "source": [
        "Power BI Embedded lets developers add Power BI reports into their own apps or websites. It’s great for software companies that want to give their users powerful visuals without needing them to use Power BI directly."
      ],
      "metadata": {
        "id": "vKiaGjLAMwYL"
      }
    }
  ]
}