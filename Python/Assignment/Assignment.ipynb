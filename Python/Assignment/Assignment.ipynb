{
  "nbformat": 4,
  "nbformat_minor": 0,
  "metadata": {
    "colab": {
      "provenance": []
    },
    "kernelspec": {
      "name": "python3",
      "display_name": "Python 3"
    },
    "language_info": {
      "name": "python"
    }
  },
  "cells": [
    {
      "cell_type": "markdown",
      "source": [
        "1) What are the types of Applications?\n"
      ],
      "metadata": {
        "id": "ZcJF8QBHPqV2"
      }
    },
    {
      "cell_type": "markdown",
      "source": [
        "Ans. Python is a versatile language with a wide range of applications. Here are some common types: Web Development, Data Science, Data Analytics, Machine Learning and Artificial Intelligence, Game Development, Cybersecurity."
      ],
      "metadata": {
        "id": "FqjsuZbwSwBM"
      }
    },
    {
      "cell_type": "markdown",
      "source": [
        "2) What is programing?"
      ],
      "metadata": {
        "id": "PBPkaj-vYy1s"
      }
    },
    {
      "cell_type": "markdown",
      "source": [
        "Ans. Programming is the process of creating instructions that a computer can follow to perform specific tasks. These instructions, known as code, are written in programming languages such as Python, Java, C++, and others.\n",
        "\n",
        "The goal of programming is to solve problems or perform tasks by breaking them down into a series of logical steps that the computer can execute.\n",
        "\n",
        "Programming is used to create software, applications, websites, games, and much more. It requires logical thinking, problem-solving skills, and creativity."
      ],
      "metadata": {
        "id": "JxiUqEY5Y3XH"
      }
    },
    {
      "cell_type": "markdown",
      "source": [
        "3) What is Python?"
      ],
      "metadata": {
        "id": "r0Kwt43lZHSr"
      }
    },
    {
      "cell_type": "markdown",
      "source": [
        "Ans. Python is a high level, general purpose, open source, versatile, interpreted, dynamic, object oriented programming language that has simplicity and readability.\n",
        "\n",
        "It was created by Guido Van Rossum and first released in 1991.\n",
        "\n",
        "Python has become one of the most popular & versatile programming languages known for its clean syntax & easy to learn in nature.\n"
      ],
      "metadata": {
        "id": "F9Q5tTqvZHt5"
      }
    },
    {
      "cell_type": "markdown",
      "source": [
        "4) Write a Python program to check if a number is positive, negative or\n",
        "zero."
      ],
      "metadata": {
        "id": "R22vLu_GeDiY"
      }
    },
    {
      "cell_type": "code",
      "source": [
        "num = float(input (\"Enter a number = \"))\n",
        "if num > 0:\n",
        "  print (\"Positive number\")\n",
        "elif num == 0:\n",
        "  print (\"Zero\")\n",
        "else:\n",
        "  print (\"Negative number\")"
      ],
      "metadata": {
        "colab": {
          "base_uri": "https://localhost:8080/"
        },
        "id": "SJcrlWC3eEeY",
        "outputId": "35505589-c056-4071-d655-f027f6215340"
      },
      "execution_count": null,
      "outputs": [
        {
          "output_type": "stream",
          "name": "stdout",
          "text": [
            "Enter a number = 0\n",
            "Zero\n"
          ]
        }
      ]
    },
    {
      "cell_type": "markdown",
      "source": [
        "5) Write a Python program to get the Factorial number of given numbers."
      ],
      "metadata": {
        "id": "PhmznSzahCXc"
      }
    },
    {
      "cell_type": "code",
      "source": [
        "def factorial(n):\n",
        "    if n == 0 or n == 1:\n",
        "        return 1\n",
        "    else:\n",
        "        return n * factorial(n - 1)\n",
        "number = int(input(\"Enter a number: \"))\n",
        "result = factorial(number)\n",
        "print(\"The factorial of\",number, \"is\", result)\n"
      ],
      "metadata": {
        "colab": {
          "base_uri": "https://localhost:8080/"
        },
        "id": "c0rqIwS_hGEP",
        "outputId": "2b93654f-e161-4005-8122-4e877780be32"
      },
      "execution_count": null,
      "outputs": [
        {
          "output_type": "stream",
          "name": "stdout",
          "text": [
            "Enter a number: 4\n",
            "The factorial of 4 is 24\n"
          ]
        }
      ]
    },
    {
      "cell_type": "markdown",
      "source": [
        "6) Write a Python program to get the Fibonacci series of given range."
      ],
      "metadata": {
        "id": "5O66Y8BtlmAY"
      }
    },
    {
      "cell_type": "code",
      "source": [
        "def fibonacci_series(n):\n",
        "    fib_sequence = []\n",
        "    a, b = 0, 1\n",
        "    while a <= n:\n",
        "        fib_sequence.append(a)\n",
        "        a, b = b, a + b\n",
        "    return fib_sequence\n",
        "\n",
        "range_limit = int(input(\"Enter the range limit for Fibonacci series: \"))\n",
        "\n",
        "fib_series = fibonacci_series(range_limit)\n",
        "print(\"Fibonacci series up to\", range_limit, \"is:\", fib_series)\n"
      ],
      "metadata": {
        "colab": {
          "base_uri": "https://localhost:8080/"
        },
        "id": "TY2aCWI8lo88",
        "outputId": "a189512f-4e8c-486f-a850-7deb4b304560"
      },
      "execution_count": null,
      "outputs": [
        {
          "output_type": "stream",
          "name": "stdout",
          "text": [
            "Enter the range limit for Fibonacci series: 8\n",
            "Fibonacci series up to 8 is: [0, 1, 1, 2, 3, 5, 8]\n"
          ]
        }
      ]
    },
    {
      "cell_type": "markdown",
      "source": [
        "7) How memory is managed in Python?"
      ],
      "metadata": {
        "id": "Ul4LXB8spAmc"
      }
    },
    {
      "cell_type": "markdown",
      "source": [
        "Ans. Python's memory management is a combination of reference counting, garbage collection, and memory pools, providing a robust and automatic way to manage memory for most applications. It is efficient and automatic, minimizing the need for manual intervention."
      ],
      "metadata": {
        "id": "Ncj3Hum3pCWq"
      }
    },
    {
      "cell_type": "markdown",
      "source": [
        "8) What is the purpose continuing statement in python?"
      ],
      "metadata": {
        "id": "WDUAky4-wHwr"
      }
    },
    {
      "cell_type": "markdown",
      "source": [
        "Ans. In Python, the continue statement is used within loops (like for or while loops) to skip the rest of the current iteration and immediately move to the next iteration of the loop."
      ],
      "metadata": {
        "id": "m9RYLoDVwIbM"
      }
    },
    {
      "cell_type": "markdown",
      "source": [
        "9) Write python program that swap two number with temp variable\n",
        "and without temp variable."
      ],
      "metadata": {
        "id": "09HKELH0JJEL"
      }
    },
    {
      "cell_type": "code",
      "source": [
        "a, b = 5, 10\n",
        "# Swapping with a temporary variable\n",
        "def swap_with_temp(a, b):\n",
        "    print(f\"Original: a = {a}, b = {b}\")\n",
        "    temp = a\n",
        "    a = b\n",
        "    b = temp\n",
        "    print(f\"Swapped with temp: a = {a}, b = {b}\")\n",
        "    return a, b\n",
        "a, b = swap_with_temp(a, b)\n",
        "\n",
        "# Swapping without a temporary variable\n",
        "def swap_without_temp(a, b):\n",
        "    print(f\"Original: a = {a}, b = {b}\")\n",
        "    a = a + b\n",
        "    b = a - b\n",
        "    a = a - b\n",
        "    print(f\"Swapped without temp: a = {a}, b = {b}\")\n",
        "    return a, b\n",
        "a, b = swap_without_temp(a, b)"
      ],
      "metadata": {
        "colab": {
          "base_uri": "https://localhost:8080/"
        },
        "id": "ohia7F4OJKJi",
        "outputId": "5fefc63b-26d1-42e8-cd5e-828ab4f5fe1d"
      },
      "execution_count": null,
      "outputs": [
        {
          "output_type": "stream",
          "name": "stdout",
          "text": [
            "Original: a = 5, b = 10\n",
            "Swapped with temp: a = 10, b = 5\n",
            "Original: a = 10, b = 5\n",
            "Swapped without temp: a = 5, b = 10\n"
          ]
        }
      ]
    },
    {
      "cell_type": "markdown",
      "source": [
        "10) Write a Python program to find whether a given number is even\n",
        "or odd, print out an appropriate message to the user."
      ],
      "metadata": {
        "id": "EvwtDYG4PE_S"
      }
    },
    {
      "cell_type": "code",
      "source": [
        "num=int(input(\"Enter a number = \"))\n",
        "if num%2==0:\n",
        "  print(\"The above given number is even\")\n",
        "else:\n",
        "  print(\"The above given number is odd\")"
      ],
      "metadata": {
        "colab": {
          "base_uri": "https://localhost:8080/"
        },
        "id": "JfXLG3rpPJUf",
        "outputId": "077c53df-e967-41a6-f576-86f23de4f9bd"
      },
      "execution_count": null,
      "outputs": [
        {
          "output_type": "stream",
          "name": "stdout",
          "text": [
            "Enter a number = 5\n",
            "The above given number is odd\n"
          ]
        }
      ]
    },
    {
      "cell_type": "markdown",
      "source": [
        "11) Write a Python program to test whether a passed letter is a vowel\n",
        "or not."
      ],
      "metadata": {
        "id": "9ZwrOymposVk"
      }
    },
    {
      "cell_type": "code",
      "source": [
        "a=input(\"Enter a letter = \")\n",
        "a= a.lower()\n",
        "if a==\"a\" or a==\"e\" or a==\"i\" or a==\"o\" or a==\"u\":\n",
        "  print(\"The above letter is a vowel\")\n",
        "else:\n",
        "  print(\"The above letter is not a vowel\")\n"
      ],
      "metadata": {
        "colab": {
          "base_uri": "https://localhost:8080/"
        },
        "id": "mS9ljfMhotz6",
        "outputId": "022ffaaa-8ae6-4b96-e96a-ffc545debd6e"
      },
      "execution_count": null,
      "outputs": [
        {
          "output_type": "stream",
          "name": "stdout",
          "text": [
            "Enter a letter = E\n",
            "The above letter is a vowel\n"
          ]
        }
      ]
    },
    {
      "cell_type": "markdown",
      "source": [
        "12) Write a Python program to sum of three given integers. However, if\n",
        "two values are equal sum will be zero."
      ],
      "metadata": {
        "id": "G09OjLYYuVCJ"
      }
    },
    {
      "cell_type": "code",
      "source": [
        "def sum_of_three(a, b, c):\n",
        "    if a == b or b == c or a == c:\n",
        "        return 0\n",
        "    else:\n",
        "        return a + b + c\n",
        "result = sum_of_integers(4,5,6)\n",
        "print(result)\n",
        "result = sum_of_integers(3,3,6)\n",
        "print(result)\n",
        "result = sum_of_integers(6,9,6)\n",
        "print(result)\n",
        "result = sum_of_integers(6,6,6)\n",
        "print(result)"
      ],
      "metadata": {
        "colab": {
          "base_uri": "https://localhost:8080/"
        },
        "id": "A49VG_wEwfiR",
        "outputId": "911f8595-4144-408e-a705-ca4424fbabc0"
      },
      "execution_count": null,
      "outputs": [
        {
          "output_type": "stream",
          "name": "stdout",
          "text": [
            "15\n",
            "0\n",
            "0\n",
            "0\n"
          ]
        }
      ]
    },
    {
      "cell_type": "markdown",
      "source": [
        "13) Write a Python program that will return true if the two given\n",
        "integer values are equal or their sum or difference is 5."
      ],
      "metadata": {
        "id": "J84fBBkhVhF5"
      }
    },
    {
      "cell_type": "code",
      "source": [
        "num1=int(input(\"Enter first number = \"))\n",
        "num2=int(input(\"Enter second number = \"))\n",
        "if num1==num2 or num1+num2==5 or num1-num2==5:\n",
        "  print(\"True\")\n",
        "else:\n",
        "  print(\"False\")"
      ],
      "metadata": {
        "colab": {
          "base_uri": "https://localhost:8080/"
        },
        "id": "jOLgzu8kVqhb",
        "outputId": "27c3805b-5e6c-4625-dac4-c909327d458b"
      },
      "execution_count": null,
      "outputs": [
        {
          "output_type": "stream",
          "name": "stdout",
          "text": [
            "Enter first number = 1\n",
            "Enter second number = 4\n",
            "True\n"
          ]
        }
      ]
    },
    {
      "cell_type": "markdown",
      "source": [
        "14) Write a python program to sum of the first n positive integers."
      ],
      "metadata": {
        "id": "as_gZLBKX-Yf"
      }
    },
    {
      "cell_type": "code",
      "source": [
        "def sum_of_first_n_positive_integers(n):\n",
        "    sum = 0\n",
        "    for i in range(1, n+1):\n",
        "        sum += i\n",
        "    return sum\n",
        "n = int(input(\"Enter a positive integer = \"))\n",
        "result = sum_of_first_n_positive_integers(n)\n",
        "print(\"Sum of the first\", n, \"positive integers = \", result)"
      ],
      "metadata": {
        "id": "tIgr_R-FYC86",
        "colab": {
          "base_uri": "https://localhost:8080/"
        },
        "outputId": "23a29c6a-ea55-4021-b61e-bb3fe8bfce06"
      },
      "execution_count": null,
      "outputs": [
        {
          "output_type": "stream",
          "name": "stdout",
          "text": [
            "Enter a positive integer = 5\n",
            "Sum of the first 5 positive integers =  15\n"
          ]
        }
      ]
    },
    {
      "cell_type": "markdown",
      "source": [
        "15) Write a Python program to calculate the length of a string."
      ],
      "metadata": {
        "id": "igA5XSS3K8Ei"
      }
    },
    {
      "cell_type": "code",
      "source": [
        "string=input(\"Enter a string = \")\n",
        "len(string)"
      ],
      "metadata": {
        "colab": {
          "base_uri": "https://localhost:8080/"
        },
        "id": "KCzIt0yBMOBs",
        "outputId": "5653f525-bdd5-47a0-9567-d928bd77427e"
      },
      "execution_count": null,
      "outputs": [
        {
          "name": "stdout",
          "output_type": "stream",
          "text": [
            "Enter a string = Manan\n"
          ]
        },
        {
          "output_type": "execute_result",
          "data": {
            "text/plain": [
              "5"
            ]
          },
          "metadata": {},
          "execution_count": 4
        }
      ]
    },
    {
      "cell_type": "markdown",
      "source": [
        "16) Write a Python program to count the number of characters\n",
        "(character frequency) in a string"
      ],
      "metadata": {
        "id": "9hUkE9suM150"
      }
    },
    {
      "cell_type": "code",
      "source": [
        "def count_character_frequency(input_string):\n",
        "      frequency_dict = {}\n",
        "      for char in input_string:\n",
        "                if char in frequency_dict:\n",
        "                  frequency_dict[char] += 1\n",
        "                else:\n",
        "                  frequency_dict[char] = 1\n",
        "      return frequency_dict\n",
        "input_string = \"Manan Saluja\"\n",
        "result = count_character_frequency(input_string)\n",
        "for char, frequency in result.items():\n",
        "    print(f\"'{char}': {frequency}\")"
      ],
      "metadata": {
        "id": "tpUnxhq3M3Li",
        "colab": {
          "base_uri": "https://localhost:8080/"
        },
        "outputId": "93a474d3-e26d-45ad-f6f8-5ad999b154f4"
      },
      "execution_count": null,
      "outputs": [
        {
          "output_type": "stream",
          "name": "stdout",
          "text": [
            "'M': 1\n",
            "'a': 4\n",
            "'n': 2\n",
            "' ': 1\n",
            "'S': 1\n",
            "'l': 1\n",
            "'u': 1\n",
            "'j': 1\n"
          ]
        }
      ]
    },
    {
      "cell_type": "markdown",
      "source": [
        "17) What are negative indexes and why are they used?"
      ],
      "metadata": {
        "id": "Aeo53d7eI9NM"
      }
    },
    {
      "cell_type": "markdown",
      "source": [
        "Ans. Negative indexes allows us to access elements from the end of a sequence, such as a list or a string, rather than from the beginning. Negative indexes simplify accessing elements from the end of a list, enhance readability, and allow flexible slicing, especially when dealing with the last few elements."
      ],
      "metadata": {
        "id": "w6_VlY7FL92I"
      }
    },
    {
      "cell_type": "markdown",
      "source": [
        "18) Write a Python program to count occurrences of a substring in a string."
      ],
      "metadata": {
        "id": "tMDSP4D2MCO4"
      }
    },
    {
      "cell_type": "code",
      "source": [
        "def count_substring(main_string, substring):\n",
        "    count = main_string.count(substring)\n",
        "    return count\n",
        "\n",
        "main_string = \"Hello, how are you? How have you been? How is everything?\"\n",
        "substring = \"How\"\n",
        "\n",
        "result = count_substring(main_string, substring)\n",
        "print(f\"The substring '{substring}' occurs {result} times in the main string.\")\n"
      ],
      "metadata": {
        "colab": {
          "base_uri": "https://localhost:8080/"
        },
        "id": "-04ndxPSMEuM",
        "outputId": "038fd7ec-01ea-41e6-8785-15e482508ba3"
      },
      "execution_count": null,
      "outputs": [
        {
          "output_type": "stream",
          "name": "stdout",
          "text": [
            "The substring 'How' occurs 2 times in the main string.\n"
          ]
        }
      ]
    },
    {
      "cell_type": "markdown",
      "source": [
        "19) Write a Python program to count the occurrences of each word in a given sentence"
      ],
      "metadata": {
        "id": "BQecNovgP_P0"
      }
    },
    {
      "cell_type": "code",
      "source": [
        "def count_words(sentence):\n",
        "    words = sentence.split()\n",
        "    word_counts = {}\n",
        "    for word in words:\n",
        "        if word in word_counts:\n",
        "            word_counts[word] += 1\n",
        "        else:\n",
        "            word_counts[word] = 1\n",
        "    return word_counts\n",
        "\n",
        "sentence = input(\"Enter a sentence: \")\n",
        "word_counts = count_words(sentence)\n",
        "for word, count in word_counts.items():\n",
        "  print(f'{word}:{count}')"
      ],
      "metadata": {
        "colab": {
          "base_uri": "https://localhost:8080/"
        },
        "id": "koGi8M2oQPQS",
        "outputId": "1cb59474-af44-48cf-fa78-51b223120932"
      },
      "execution_count": null,
      "outputs": [
        {
          "output_type": "stream",
          "name": "stdout",
          "text": [
            "Enter a sentence: Hello, how are you? How have you been? How is everything?\n",
            "Hello,:1\n",
            "how:1\n",
            "are:1\n",
            "you?:1\n",
            "How:2\n",
            "have:1\n",
            "you:1\n",
            "been?:1\n",
            "is:1\n",
            "everything?:1\n"
          ]
        }
      ]
    },
    {
      "cell_type": "markdown",
      "source": [
        "20) Write a Python program to get a single string from two given strings,\n",
        "separated by a space and swap the first two characters of each string."
      ],
      "metadata": {
        "id": "z_HA3Gb8y5WD"
      }
    },
    {
      "cell_type": "code",
      "source": [
        "str1=input(\"Enter a string :\")\n",
        "str2=input(\"Enter a string :\")\n",
        "print(str2[:2]+str1[2:]+\" \"+str1[:2]+str2[2:])"
      ],
      "metadata": {
        "colab": {
          "base_uri": "https://localhost:8080/"
        },
        "id": "GZb8dyb5y8s5",
        "outputId": "598165c2-b24c-46d3-e60c-f3a70bcccb7b"
      },
      "execution_count": null,
      "outputs": [
        {
          "output_type": "stream",
          "name": "stdout",
          "text": [
            "Enter a string :Good\n",
            "Enter a string :Morning\n",
            "Mood Gorning\n"
          ]
        }
      ]
    },
    {
      "cell_type": "markdown",
      "source": [
        "21) Write a Python program to add 'ing' at the end of a given string (length\n",
        "should be at least 3). If the given string already ends with 'ing' then\n",
        "add 'ly' instead if the string length of the given string is less than 3,\n",
        "leave it unchanged."
      ],
      "metadata": {
        "id": "a939mAmQ4URc"
      }
    },
    {
      "cell_type": "code",
      "source": [
        "def modify_string(string):\n",
        "    if len(string) >= 3:\n",
        "        if string.endswith('ing'):\n",
        "            return string + 'ly'\n",
        "        else:\n",
        "            return string + 'ing'\n",
        "    else:\n",
        "        return string\n",
        "\n",
        "print(modify_string('Play'))\n",
        "print(modify_string('Singing'))\n",
        "print(modify_string('No'))\n"
      ],
      "metadata": {
        "id": "NcyY1o1P4WIt",
        "colab": {
          "base_uri": "https://localhost:8080/"
        },
        "outputId": "1f4b0445-08eb-444a-db48-507d326b548f"
      },
      "execution_count": null,
      "outputs": [
        {
          "output_type": "stream",
          "name": "stdout",
          "text": [
            "Playing\n",
            "Singingly\n",
            "No\n"
          ]
        }
      ]
    },
    {
      "cell_type": "markdown",
      "source": [
        "22) Write a Python function to reverses a string if its length is a multiple\n",
        "of 4."
      ],
      "metadata": {
        "id": "RSrvMWPmxl7b"
      }
    },
    {
      "cell_type": "code",
      "source": [
        "def reverse_if_multiple_of_four(string):\n",
        "    if len(string) % 4 == 0:\n",
        "        return string[::-1]\n",
        "    else:\n",
        "        return string\n",
        "\n",
        "print(reverse_if_multiple_of_four('Book'))\n",
        "print(reverse_if_multiple_of_four('Books'))"
      ],
      "metadata": {
        "colab": {
          "base_uri": "https://localhost:8080/"
        },
        "id": "C1lCwZOPxpZN",
        "outputId": "899b3296-12b9-4ac4-ab69-0ebaa6da229b"
      },
      "execution_count": null,
      "outputs": [
        {
          "output_type": "stream",
          "name": "stdout",
          "text": [
            "kooB\n",
            "Books\n"
          ]
        }
      ]
    },
    {
      "cell_type": "markdown",
      "source": [
        "23) Write a Python program to get a string made of the first 2 and the last\n",
        "2 chars from a given a string. If the string length is less than 2, return\n",
        "instead of the empty string."
      ],
      "metadata": {
        "id": "E7r8hsmmynlF"
      }
    },
    {
      "cell_type": "code",
      "source": [
        "def first_and_last_2_chars(string):\n",
        "    if len(string) < 2:\n",
        "        return ''\n",
        "    else:\n",
        "        return string[:2] + string[-2:]\n",
        "\n",
        "print(first_and_last_2_chars('M'))\n",
        "print(first_and_last_2_chars('Manan Saluja'))"
      ],
      "metadata": {
        "colab": {
          "base_uri": "https://localhost:8080/"
        },
        "id": "QQgkMZeqyqu5",
        "outputId": "c53fcf29-1af1-4924-938f-445225c4bc4f"
      },
      "execution_count": null,
      "outputs": [
        {
          "output_type": "stream",
          "name": "stdout",
          "text": [
            "\n",
            "Maja\n"
          ]
        }
      ]
    },
    {
      "cell_type": "markdown",
      "source": [
        "24) Write a Python function to insert a string in the middle of a string."
      ],
      "metadata": {
        "id": "5GVx1QFB1dXg"
      }
    },
    {
      "cell_type": "code",
      "source": [
        "def insert_string_middle(main_string, insert_string):\n",
        "    middle_index = len(main_string) // 2\n",
        "    return main_string[:middle_index] + insert_string + main_string[middle_index:]\n",
        "\n",
        "print(insert_string_middle('Hello', 'Everyone'))"
      ],
      "metadata": {
        "colab": {
          "base_uri": "https://localhost:8080/"
        },
        "id": "qjsaVnrX1gN2",
        "outputId": "80350bca-fd00-40ab-e446-0f0525fe1e1f"
      },
      "execution_count": null,
      "outputs": [
        {
          "output_type": "stream",
          "name": "stdout",
          "text": [
            "HeEveryonello\n"
          ]
        }
      ]
    },
    {
      "cell_type": "markdown",
      "source": [
        "25) What is List? How will you reverse a list?"
      ],
      "metadata": {
        "id": "AwVRoRqH585a"
      }
    },
    {
      "cell_type": "markdown",
      "source": [
        "Ans. A list is a data structure in Python that is a mutable, or changeable, ordered sequence of elements. Each element or value that is inside of a list is called an item. Just as strings are defined as characters between quotes, lists are defined by having values between square brackets [ ] . reverse list syntax: [: :-1]"
      ],
      "metadata": {
        "id": "WitbCdRu59wl"
      }
    },
    {
      "cell_type": "markdown",
      "source": [
        "26) How will you remove last object from a list?"
      ],
      "metadata": {
        "id": "vwSe0L1nx4HH"
      }
    },
    {
      "cell_type": "markdown",
      "source": [
        "Ans.To remove the last item from a list, use my_list.pop(), my_list = my_list[:-1], or del my_list[-1]."
      ],
      "metadata": {
        "id": "eeDqRuXox_0J"
      }
    },
    {
      "cell_type": "markdown",
      "source": [
        "27) Suppose list1 is [2, 33, 222, 14, and 25], what is list1 [-\n",
        "1]?"
      ],
      "metadata": {
        "id": "_ayplDz7yrdY"
      }
    },
    {
      "cell_type": "code",
      "source": [
        "list1=[2, 33, 222, 14, 25]\n",
        "print(list1[-1])"
      ],
      "metadata": {
        "colab": {
          "base_uri": "https://localhost:8080/"
        },
        "id": "Vf7ce9_82HDS",
        "outputId": "63db5193-43e9-4ef1-cfaf-2b041a4e09a4"
      },
      "execution_count": null,
      "outputs": [
        {
          "output_type": "stream",
          "name": "stdout",
          "text": [
            "25\n"
          ]
        }
      ]
    },
    {
      "cell_type": "markdown",
      "source": [
        "28) Differentiate between append () and extend () methods?"
      ],
      "metadata": {
        "id": "V_mhPvow2c_m"
      }
    },
    {
      "cell_type": "markdown",
      "source": [
        "Ans. The 'append()' method adds a single element to the end of the list, while 'extend()' adds each element from an iterable to the list."
      ],
      "metadata": {
        "id": "pFxdVzBv2gqL"
      }
    },
    {
      "cell_type": "markdown",
      "source": [
        "29) Write a Python function to get the largest number, smallest num\n",
        "and sum of all from a list."
      ],
      "metadata": {
        "id": "EVeTpXrKJenU"
      }
    },
    {
      "cell_type": "code",
      "source": [
        "def largest_smallest_sum(numbers):\n",
        "    largest = max(numbers)\n",
        "    smallest = min(numbers)\n",
        "    total = sum(numbers)\n",
        "    return largest, smallest, total\n",
        "numbers = [10,20,30,40,50]\n",
        "largest, smallest, total = largest_smallest_sum(numbers)\n",
        "print(f\"Largest: {largest}, Smallest: {smallest}, Sum: {total}\")"
      ],
      "metadata": {
        "colab": {
          "base_uri": "https://localhost:8080/"
        },
        "id": "CgXJQ4BbLGOH",
        "outputId": "8d790c28-793a-4761-c968-3f500b5b4245"
      },
      "execution_count": null,
      "outputs": [
        {
          "output_type": "stream",
          "name": "stdout",
          "text": [
            "Largest: 50, Smallest: 10, Sum: 150\n"
          ]
        }
      ]
    },
    {
      "cell_type": "markdown",
      "source": [
        "30) How will you compare two lists?"
      ],
      "metadata": {
        "id": "2jOB4wHhLW0E"
      }
    },
    {
      "cell_type": "markdown",
      "source": [
        "Ans. We can compare two lists in Python using below methods:\n",
        "\n",
        "1. Equality Operator ('=='): Checks if two lists have the same elements in the same order.\n",
        "2. 'set()' Conversion: Compares lists as sets, ignoring order and duplicates."
      ],
      "metadata": {
        "id": "tNUNjk_3Lbdk"
      }
    },
    {
      "cell_type": "markdown",
      "source": [
        "31) Write a Python program to count the number of strings where the string\n",
        "length is 2 or more and the first and last character are same from a given list\n",
        "of strings."
      ],
      "metadata": {
        "id": "WhapsnUJM3-g"
      }
    },
    {
      "cell_type": "code",
      "source": [
        "def count_matching_strings(strings):\n",
        "    count = 0\n",
        "    for s in strings:\n",
        "        if len(s) >= 2 and s[0] == s[-1]:\n",
        "            count += 1\n",
        "    return count\n",
        "strings_list = ['bcd', 'jkl', 'yoy', '1221', 'xyx']\n",
        "result = count_matching_strings(strings_list)\n",
        "print(f\"Number of matching strings: {result}\")"
      ],
      "metadata": {
        "colab": {
          "base_uri": "https://localhost:8080/"
        },
        "id": "g1Tu2xOGPFCa",
        "outputId": "7e358243-6213-477d-e5ce-39e0fcacd8df"
      },
      "execution_count": null,
      "outputs": [
        {
          "output_type": "stream",
          "name": "stdout",
          "text": [
            "Number of matching strings: 3\n"
          ]
        }
      ]
    },
    {
      "cell_type": "markdown",
      "source": [
        "32) Write a Python program to remove duplicates from a list."
      ],
      "metadata": {
        "id": "WdLgB5zrPff_"
      }
    },
    {
      "cell_type": "code",
      "source": [
        "def remove_duplicates(input_list):\n",
        "    return list(set(input_list))\n",
        "my_list = [1, 1, 2, 3, 3, 4, 5]\n",
        "unique_list = remove_duplicates(my_list)\n",
        "print(unique_list)"
      ],
      "metadata": {
        "colab": {
          "base_uri": "https://localhost:8080/"
        },
        "id": "eAFXtJSTPh9C",
        "outputId": "616201a5-f7fd-4057-dde1-803ab5b4cff6"
      },
      "execution_count": null,
      "outputs": [
        {
          "output_type": "stream",
          "name": "stdout",
          "text": [
            "[1, 2, 3, 4, 5]\n"
          ]
        }
      ]
    },
    {
      "cell_type": "markdown",
      "source": [
        "33) Write a Python program to check a list is empty or not."
      ],
      "metadata": {
        "id": "ukVLqjRWP_a8"
      }
    },
    {
      "cell_type": "code",
      "source": [
        "def is_list_empty(input_list):\n",
        "    return len(input_list) == 0\n",
        "my_list = [6,9]\n",
        "if is_list_empty(my_list):\n",
        "    print(\"The list is empty.\")\n",
        "else:\n",
        "    print(\"The list is not empty.\")"
      ],
      "metadata": {
        "colab": {
          "base_uri": "https://localhost:8080/"
        },
        "id": "L9LZ_r9YQBhE",
        "outputId": "8cddd20b-d141-45e7-b0e2-f258a5753e5e"
      },
      "execution_count": null,
      "outputs": [
        {
          "output_type": "stream",
          "name": "stdout",
          "text": [
            "The list is not empty.\n"
          ]
        }
      ]
    },
    {
      "cell_type": "markdown",
      "source": [
        "34) Write a Python function that takes two lists and returns true if they\n",
        "have at least one common member."
      ],
      "metadata": {
        "id": "ulnGFguMQ3JO"
      }
    },
    {
      "cell_type": "code",
      "source": [
        "def common_member(list1, list2):\n",
        "    for item in list1:\n",
        "        if item in list2:\n",
        "            return True\n",
        "    return False\n",
        "list1 = [3,4,5]\n",
        "list2 = [1,2,3]\n",
        "result = common_member(list1,list2)\n",
        "print(result)"
      ],
      "metadata": {
        "colab": {
          "base_uri": "https://localhost:8080/"
        },
        "id": "qo2Cqvo1Q4Sh",
        "outputId": "fbba3fa5-fc38-4dfd-cbd2-1ec71d5f1c4f"
      },
      "execution_count": null,
      "outputs": [
        {
          "output_type": "stream",
          "name": "stdout",
          "text": [
            "True\n"
          ]
        }
      ]
    },
    {
      "cell_type": "markdown",
      "source": [
        "35) Write a Python program to generate and print a list of first and last 5\n",
        "elements where the values are square of numbers between 1 and 30."
      ],
      "metadata": {
        "id": "XXgopRVYRkLg"
      }
    },
    {
      "cell_type": "code",
      "source": [
        "def generate_squares():\n",
        "    squares = [x**2 for x in range(1, 31)]\n",
        "    first_five = squares[:5]\n",
        "    last_five = squares[-5:]\n",
        "    return first_five, last_five\n",
        "first_five, last_five = generate_squares()\n",
        "print(\"First 5 elements:\", first_five)\n",
        "print(\"Last 5 elements:\", last_five)"
      ],
      "metadata": {
        "colab": {
          "base_uri": "https://localhost:8080/"
        },
        "id": "-UITMcswRkxT",
        "outputId": "d7b76ff3-7738-475d-982f-db9f38825b61"
      },
      "execution_count": null,
      "outputs": [
        {
          "output_type": "stream",
          "name": "stdout",
          "text": [
            "First 5 elements: [1, 4, 9, 16, 25]\n",
            "Last 5 elements: [676, 729, 784, 841, 900]\n"
          ]
        }
      ]
    },
    {
      "cell_type": "markdown",
      "source": [
        "36) Write a Python function that takes a list and returns a new list with\n",
        "unique elements of the first list."
      ],
      "metadata": {
        "id": "lFGtPhWxSjxk"
      }
    },
    {
      "cell_type": "code",
      "source": [
        "my_list = [7,8,6,9,6,9]\n",
        "unique_list = list(set(my_list))\n",
        "print(unique_list)"
      ],
      "metadata": {
        "colab": {
          "base_uri": "https://localhost:8080/"
        },
        "id": "pYk38aBOSn_z",
        "outputId": "173bec50-d389-4b1f-8632-fa86e02e0560"
      },
      "execution_count": null,
      "outputs": [
        {
          "output_type": "stream",
          "name": "stdout",
          "text": [
            "[8, 9, 6, 7]\n"
          ]
        }
      ]
    },
    {
      "cell_type": "markdown",
      "source": [
        "37) Write a Python program to convert a list of characters into a string."
      ],
      "metadata": {
        "id": "cFhqLsh8TEaP"
      }
    },
    {
      "cell_type": "code",
      "source": [
        "my_list = ['M', 'A', 'N', 'A', 'N']\n",
        "my_string = \"\".join(my_list)\n",
        "print(my_string)"
      ],
      "metadata": {
        "colab": {
          "base_uri": "https://localhost:8080/"
        },
        "id": "TP2c5jRdTHOy",
        "outputId": "3b6a2f24-aa76-4fcf-d7ac-c6b3b80cea77"
      },
      "execution_count": null,
      "outputs": [
        {
          "output_type": "stream",
          "name": "stdout",
          "text": [
            "MANAN\n"
          ]
        }
      ]
    },
    {
      "cell_type": "markdown",
      "source": [
        "38) Write a Python program to select an item randomly from a list."
      ],
      "metadata": {
        "id": "VqyQBMnkTpQZ"
      }
    },
    {
      "cell_type": "code",
      "source": [
        "import random\n",
        "num=[6,7,8,9,10]\n",
        "print(random.choice(num))"
      ],
      "metadata": {
        "colab": {
          "base_uri": "https://localhost:8080/"
        },
        "id": "XV6tFRJJTpzx",
        "outputId": "6012d3c7-f0c1-4193-e749-8b233ae6a953"
      },
      "execution_count": null,
      "outputs": [
        {
          "output_type": "stream",
          "name": "stdout",
          "text": [
            "8\n"
          ]
        }
      ]
    },
    {
      "cell_type": "markdown",
      "source": [
        "39) Write a Python program to find the second smallest number in a list."
      ],
      "metadata": {
        "id": "rcVCgJ-TUI2b"
      }
    },
    {
      "cell_type": "code",
      "source": [
        "a=[100, 77, 88, 69, 4, 99]\n",
        "a.sort()\n",
        "print(a[1])"
      ],
      "metadata": {
        "colab": {
          "base_uri": "https://localhost:8080/"
        },
        "id": "jDotZvg1UK_4",
        "outputId": "bb4c6f99-3423-4d25-dcbd-d736dce745d5"
      },
      "execution_count": null,
      "outputs": [
        {
          "output_type": "stream",
          "name": "stdout",
          "text": [
            "69\n"
          ]
        }
      ]
    },
    {
      "cell_type": "markdown",
      "source": [
        "40) Write a Python program to get unique values from a list"
      ],
      "metadata": {
        "id": "CVYH6u5qVIRR"
      }
    },
    {
      "cell_type": "code",
      "source": [
        "def get_unique_values(input_list):\n",
        "    return list(set(input_list))\n",
        "my_list = [11,13,12,15,13,11]\n",
        "unique_values = get_unique_values(my_list)\n",
        "print(unique_values)"
      ],
      "metadata": {
        "colab": {
          "base_uri": "https://localhost:8080/"
        },
        "id": "ZSZ6LhNwVI1z",
        "outputId": "60ca88e3-4434-403e-9f3e-5f773aa15271"
      },
      "execution_count": null,
      "outputs": [
        {
          "output_type": "stream",
          "name": "stdout",
          "text": [
            "[11, 12, 13, 15]\n"
          ]
        }
      ]
    },
    {
      "cell_type": "markdown",
      "source": [
        "41) Write a Python program to check whether a list contains a sub list"
      ],
      "metadata": {
        "id": "xUDnvhp65hW9"
      }
    },
    {
      "cell_type": "code",
      "source": [
        "def contains_sublist(list1, list2):\n",
        "    for item in list2:\n",
        "        if item not in list1:\n",
        "            return False\n",
        "    return True\n",
        "list1 = [1, 2, 3, 4, 5, 6]\n",
        "list2 = [3, 4, 5]\n",
        "print(contains_sublist(list1, list2))"
      ],
      "metadata": {
        "colab": {
          "base_uri": "https://localhost:8080/"
        },
        "id": "-I0pWPnX5qFT",
        "outputId": "82e3b322-a1eb-416f-f9fd-1848d2f33905"
      },
      "execution_count": null,
      "outputs": [
        {
          "output_type": "stream",
          "name": "stdout",
          "text": [
            "True\n"
          ]
        }
      ]
    },
    {
      "cell_type": "markdown",
      "source": [
        "42) Write a Python program to split a list into different variables."
      ],
      "metadata": {
        "id": "5UyeyCigNnJg"
      }
    },
    {
      "cell_type": "code",
      "source": [
        "my_list = [20, 40, 60, 80, 100]\n",
        "a, b, c, d, e = my_list\n",
        "print(f\"a: {a}\")\n",
        "print(f\"b: {b}\")\n",
        "print(f\"c: {c}\")\n",
        "print(f\"d: {d}\")\n",
        "print(f\"e: {e}\")"
      ],
      "metadata": {
        "colab": {
          "base_uri": "https://localhost:8080/"
        },
        "id": "-ZaoI8OMNn2Z",
        "outputId": "9453cc89-0203-4f8e-98c6-029e6acc01f7"
      },
      "execution_count": null,
      "outputs": [
        {
          "output_type": "stream",
          "name": "stdout",
          "text": [
            "a: 20\n",
            "b: 40\n",
            "c: 60\n",
            "d: 80\n",
            "e: 100\n"
          ]
        }
      ]
    },
    {
      "cell_type": "markdown",
      "source": [
        "43) What is tuple? Difference between list and tuple."
      ],
      "metadata": {
        "id": "ZfMINKbdOPtk"
      }
    },
    {
      "cell_type": "markdown",
      "source": [
        "Ans. A tuple is an immutable collection in Python, meaning its elements cannot be changed after creation, and it is defined using parentheses `()`. In contrast, a list is mutable, allowing elements to be added, removed, or modified, and it is defined using square brackets `[]`. Tuples are generally faster due to their immutability, making them suitable for fixed data like coordinates. Lists are more flexible and are ideal for situations where the data may need to change, such as maintaining a dynamic collection."
      ],
      "metadata": {
        "id": "jpmBae5MOR4C"
      }
    },
    {
      "cell_type": "markdown",
      "source": [
        "44) Write a Python program to create a tuple with different data types."
      ],
      "metadata": {
        "id": "4r7yzpYOPhR_"
      }
    },
    {
      "cell_type": "code",
      "source": [
        "my_tuple = (55, \"Manan\", 3.14, True, [1, 2, 3])\n",
        "\n",
        "print(\"Tuple:\", my_tuple)"
      ],
      "metadata": {
        "colab": {
          "base_uri": "https://localhost:8080/"
        },
        "id": "ulcbwgKMPkbt",
        "outputId": "a0c9fa4d-a510-43d1-d00d-54f0b716b489"
      },
      "execution_count": null,
      "outputs": [
        {
          "output_type": "stream",
          "name": "stdout",
          "text": [
            "Tuple: (55, 'Manan', 3.14, True, [1, 2, 3])\n"
          ]
        }
      ]
    },
    {
      "cell_type": "markdown",
      "source": [
        "45) Write a Python program to unzip a list of tuples into individual lists."
      ],
      "metadata": {
        "id": "I8ETyAvRP-L0"
      }
    },
    {
      "cell_type": "code",
      "source": [
        "tuple_list = [(1, 'a'), (2, 'b'), (3, 'c'), (4, 'd')]\n",
        "\n",
        "list1, list2 = zip(*tuple_list)\n",
        "\n",
        "list1 = list(list1)\n",
        "list2 = list(list2)\n",
        "\n",
        "print(\"List 1:\", list1)\n",
        "print(\"List 2:\", list2)"
      ],
      "metadata": {
        "colab": {
          "base_uri": "https://localhost:8080/"
        },
        "id": "oIRYLhVBQAzT",
        "outputId": "840e194a-e009-4f3d-b1ab-a5fa778a7ba3"
      },
      "execution_count": null,
      "outputs": [
        {
          "output_type": "stream",
          "name": "stdout",
          "text": [
            "List 1: [1, 2, 3, 4]\n",
            "List 2: ['a', 'b', 'c', 'd']\n"
          ]
        }
      ]
    }
  ]
}