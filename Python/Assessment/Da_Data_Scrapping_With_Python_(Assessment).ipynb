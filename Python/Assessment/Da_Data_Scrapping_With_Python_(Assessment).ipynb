{
  "nbformat": 4,
  "nbformat_minor": 0,
  "metadata": {
    "colab": {
      "provenance": []
    },
    "kernelspec": {
      "name": "python3",
      "display_name": "Python 3"
    },
    "language_info": {
      "name": "python"
    }
  },
  "cells": [
    {
      "cell_type": "code",
      "source": [
        "import requests\n",
        "from bs4 import BeautifulSoup"
      ],
      "metadata": {
        "id": "MKzztOA5_aXJ"
      },
      "execution_count": 3,
      "outputs": []
    },
    {
      "cell_type": "code",
      "source": [
        "url = 'http://quotes.toscrape.com'\n",
        "response = requests.get(url)"
      ],
      "metadata": {
        "id": "4sKWnPyG_cor"
      },
      "execution_count": 4,
      "outputs": []
    },
    {
      "cell_type": "code",
      "source": [
        "if response.status_code == 200:\n",
        "    html_content = response.text\n",
        "    soup = BeautifulSoup(html_content, 'html.parser')\n",
        "    quotes = soup.find_all('div', class_='quote')\n",
        "\n",
        "    for i, quote in enumerate(quotes, 1):\n",
        "        text = quote.find('span', class_='text').get_text()\n",
        "        author = quote.find('small', class_='author').get_text()\n",
        "        tags = [tag.get_text() for tag in quote.find_all('a', class_='tag')]\n",
        "\n",
        "        print(f\"Quote {i}:\")\n",
        "        print(f\"  Text   : {text}\")\n",
        "        print(f\"  Author : {author}\")\n",
        "        print(f\"  Tags   : {', '.join(tags)}\")\n",
        "        print('-' * 40)\n",
        "\n",
        "else:\n",
        "    print(f\"Failed to fetch the page, status code: {response.status_code}\")"
      ],
      "metadata": {
        "colab": {
          "base_uri": "https://localhost:8080/"
        },
        "id": "WK40elN7_e-l",
        "outputId": "210be2b3-8e62-46d7-ddca-33b34f710a70"
      },
      "execution_count": 5,
      "outputs": [
        {
          "output_type": "stream",
          "name": "stdout",
          "text": [
            "Quote 1:\n",
            "  Text   : “The world as we have created it is a process of our thinking. It cannot be changed without changing our thinking.”\n",
            "  Author : Albert Einstein\n",
            "  Tags   : change, deep-thoughts, thinking, world\n",
            "----------------------------------------\n",
            "Quote 2:\n",
            "  Text   : “It is our choices, Harry, that show what we truly are, far more than our abilities.”\n",
            "  Author : J.K. Rowling\n",
            "  Tags   : abilities, choices\n",
            "----------------------------------------\n",
            "Quote 3:\n",
            "  Text   : “There are only two ways to live your life. One is as though nothing is a miracle. The other is as though everything is a miracle.”\n",
            "  Author : Albert Einstein\n",
            "  Tags   : inspirational, life, live, miracle, miracles\n",
            "----------------------------------------\n",
            "Quote 4:\n",
            "  Text   : “The person, be it gentleman or lady, who has not pleasure in a good novel, must be intolerably stupid.”\n",
            "  Author : Jane Austen\n",
            "  Tags   : aliteracy, books, classic, humor\n",
            "----------------------------------------\n",
            "Quote 5:\n",
            "  Text   : “Imperfection is beauty, madness is genius and it's better to be absolutely ridiculous than absolutely boring.”\n",
            "  Author : Marilyn Monroe\n",
            "  Tags   : be-yourself, inspirational\n",
            "----------------------------------------\n",
            "Quote 6:\n",
            "  Text   : “Try not to become a man of success. Rather become a man of value.”\n",
            "  Author : Albert Einstein\n",
            "  Tags   : adulthood, success, value\n",
            "----------------------------------------\n",
            "Quote 7:\n",
            "  Text   : “It is better to be hated for what you are than to be loved for what you are not.”\n",
            "  Author : André Gide\n",
            "  Tags   : life, love\n",
            "----------------------------------------\n",
            "Quote 8:\n",
            "  Text   : “I have not failed. I've just found 10,000 ways that won't work.”\n",
            "  Author : Thomas A. Edison\n",
            "  Tags   : edison, failure, inspirational, paraphrased\n",
            "----------------------------------------\n",
            "Quote 9:\n",
            "  Text   : “A woman is like a tea bag; you never know how strong it is until it's in hot water.”\n",
            "  Author : Eleanor Roosevelt\n",
            "  Tags   : misattributed-eleanor-roosevelt\n",
            "----------------------------------------\n",
            "Quote 10:\n",
            "  Text   : “A day without sunshine is like, you know, night.”\n",
            "  Author : Steve Martin\n",
            "  Tags   : humor, obvious, simile\n",
            "----------------------------------------\n"
          ]
        }
      ]
    }
  ]
}